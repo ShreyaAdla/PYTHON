{
 "cells": [
  {
   "cell_type": "markdown",
   "id": "526a2bef-6101-4f5c-b7bf-1dca5d0bae86",
   "metadata": {},
   "source": [
    "****WHILE LOOP*****"
   ]
  },
  {
   "cell_type": "code",
   "execution_count": 1,
   "id": "3a51edbc-bc0d-4238-aa06-764f5864e907",
   "metadata": {},
   "outputs": [],
   "source": [
    "# print numbers frm 10 to 1"
   ]
  },
  {
   "cell_type": "code",
   "execution_count": 3,
   "id": "9fffd33f-9c80-4cd1-a903-840286eaa2bf",
   "metadata": {},
   "outputs": [
    {
     "name": "stdout",
     "output_type": "stream",
     "text": [
      "...before loop....\n",
      "n: 10\n",
      "10\n",
      "9\n",
      "8\n",
      "7\n",
      "6\n",
      "5\n",
      "4\n",
      "3\n",
      "2\n",
      "1\n",
      ".....after loop....\n",
      "n: 0\n"
     ]
    }
   ],
   "source": [
    "n = 10\n",
    "print(\"...before loop....\")\n",
    "print(\"n:\",n)\n",
    "\n",
    "while n>0:\n",
    "    print(n)\n",
    "    n = n-1\n",
    "\n",
    "print(\".....after loop....\")\n",
    "print(\"n:\",n)"
   ]
  },
  {
   "cell_type": "code",
   "execution_count": 8,
   "id": "7ed8e700-f172-4656-8358-f7a9a8e0dcb9",
   "metadata": {},
   "outputs": [
    {
     "name": "stdout",
     "output_type": "stream",
     "text": [
      "square of 1 is 1\n",
      "square of 3 is 9\n",
      "square of 5 is 25\n",
      "square of 7 is 49\n",
      "square of 9 is 81\n",
      "square of 11 is 121\n",
      "square of 13 is 169\n",
      "square of 15 is 225\n",
      "square of 17 is 289\n",
      "square of 19 is 361\n"
     ]
    }
   ],
   "source": [
    "#Lets find squares of odd numbers frm  1 to 20\n",
    "x = 1\n",
    "\n",
    "while x <= 20:\n",
    "    if x % 2 == 1:\n",
    "        print(\"square of {0} is {1}\" .format(x , x**2))\n",
    "    x = x + 1"
   ]
  },
  {
   "cell_type": "code",
   "execution_count": 13,
   "id": "334f819c-85e2-40a7-bf32-7c4f2eb92f20",
   "metadata": {},
   "outputs": [
    {
     "name": "stdout",
     "output_type": "stream",
     "text": [
      "30\n"
     ]
    }
   ],
   "source": [
    "#Lets find sum of even numbers from 1 to 10\n",
    "k = 1\n",
    "summation = 0\n",
    "while k <= 10 :\n",
    "    if k % 2 == 0:\n",
    "        summation = k + summation\n",
    "      #  print(summation)\n",
    "    k = k +1\n",
    "\n",
    "print(summation)"
   ]
  },
  {
   "cell_type": "code",
   "execution_count": 15,
   "id": "a04ccae9-9592-4ec4-8d4a-6eb6387ac48b",
   "metadata": {},
   "outputs": [
    {
     "name": "stdin",
     "output_type": "stream",
     "text": [
      "Please enter a number:  42\n"
     ]
    },
    {
     "name": "stdout",
     "output_type": "stream",
     "text": [
      "2\n",
      "3\n",
      "6\n",
      "7\n",
      "14\n",
      "21\n"
     ]
    }
   ],
   "source": [
    "#Find the factors of a given number\n",
    "number = int(input(\"Please enter a number: \"))\n",
    "i = 2\n",
    "while i < number:\n",
    "    if number % i == 0:\n",
    "        print(i)\n",
    "\n",
    "    i = i + 1"
   ]
  },
  {
   "cell_type": "code",
   "execution_count": null,
   "id": "63161fb0-c7c9-47f0-81d3-5cf1d0eb0f96",
   "metadata": {},
   "outputs": [],
   "source": [
    "number = int(input(\"Please enter a number: \"))\n",
    "i = 2\n",
    "while i < number:\n",
    "    if number % i == 0:\n",
    "        print"
   ]
  },
  {
   "cell_type": "markdown",
   "id": "cd4a389f-0bc1-47a7-ad10-1e1f4514149e",
   "metadata": {},
   "source": [
    "*********FOR LOOP*************"
   ]
  },
  {
   "cell_type": "code",
   "execution_count": 16,
   "id": "8f331a28-d56b-49b0-9d69-ad596543cc65",
   "metadata": {},
   "outputs": [
    {
     "name": "stdout",
     "output_type": "stream",
     "text": [
      "0\n",
      "1\n",
      "2\n",
      "3\n",
      "4\n",
      "5\n",
      "6\n",
      "7\n",
      "8\n",
      "9\n"
     ]
    }
   ],
   "source": [
    "for i in range(10):\n",
    "    print(i)"
   ]
  },
  {
   "cell_type": "code",
   "execution_count": 17,
   "id": "37564973-128e-42da-9505-16150296b7a8",
   "metadata": {},
   "outputs": [
    {
     "name": "stdout",
     "output_type": "stream",
     "text": [
      "1\n",
      "3\n",
      "5\n",
      "7\n",
      "9\n"
     ]
    }
   ],
   "source": [
    "#print numbers from 1 to 10:step size 2\n",
    "for i in range(1,10,2):\n",
    "    print(i)"
   ]
  },
  {
   "cell_type": "code",
   "execution_count": 18,
   "id": "11c41f77-c4d0-4b21-bdaf-3d05b45553f1",
   "metadata": {},
   "outputs": [
    {
     "name": "stdout",
     "output_type": "stream",
     "text": [
      "5\n",
      "8\n",
      "11\n",
      "14\n",
      "17\n",
      "20\n",
      "23\n",
      "26\n",
      "29\n"
     ]
    }
   ],
   "source": [
    "#print numbers from 5 upto 30(included):step size:3\n",
    "for i in range(5,31,3):\n",
    "    print(i)"
   ]
  },
  {
   "cell_type": "code",
   "execution_count": 23,
   "id": "566ee3ca-3f05-4b78-9d6a-b206032687ea",
   "metadata": {},
   "outputs": [
    {
     "name": "stdin",
     "output_type": "stream",
     "text": [
      "Please enter a number:  24\n"
     ]
    },
    {
     "name": "stdout",
     "output_type": "stream",
     "text": [
      "2\n",
      "3\n",
      "4\n",
      "6\n",
      "8\n",
      "12\n"
     ]
    }
   ],
   "source": [
    "#find all factors of a given number\n",
    "number = int(input(\"Please enter a number: \"))\n",
    "for x in range(2,number):\n",
    "    if  number % x == 0:\n",
    "        print(x)"
   ]
  },
  {
   "cell_type": "code",
   "execution_count": 3,
   "id": "c50bcb88-1617-47b4-b636-bc6eed472098",
   "metadata": {},
   "outputs": [
    {
     "name": "stdout",
     "output_type": "stream",
     "text": [
      "P\n",
      "y\n",
      "t\n",
      "h\n",
      "o\n",
      "n\n"
     ]
    }
   ],
   "source": [
    "text = \"Python\"\n",
    "for letter in text:\n",
    "    print(letter)\n"
   ]
  },
  {
   "cell_type": "code",
   "execution_count": 5,
   "id": "1cd3e972-3bdb-4ca6-94dc-aca73c45c542",
   "metadata": {},
   "outputs": [
    {
     "name": "stdin",
     "output_type": "stream",
     "text": [
      "Please enter a text shreya\n"
     ]
    },
    {
     "name": "stdout",
     "output_type": "stream",
     "text": [
      " s-h-r-e-y-a-\n"
     ]
    }
   ],
   "source": [
    "user_input = input(\"Please enter a text\")\n",
    "new_input = \" \"\n",
    "\n",
    "for letter in user_input:\n",
    "    new_input = new_input + letter + \"-\"\n",
    "\n",
    "print(new_input)\n",
    "    "
   ]
  },
  {
   "cell_type": "code",
   "execution_count": 16,
   "id": "ffa8cfe2-7f5e-4355-b047-1ddc29e3485a",
   "metadata": {},
   "outputs": [
    {
     "name": "stdin",
     "output_type": "stream",
     "text": [
      "Please enter a text shreya\n"
     ]
    },
    {
     "name": "stdout",
     "output_type": "stream",
     "text": [
      " s-h-r-e-y-a\n"
     ]
    }
   ],
   "source": [
    "user_input = input(\"Please enter a text\")\n",
    "new_input = \" \"\n",
    "\n",
    "for index,letter in enumerate(user_input):\n",
    "    \n",
    "    new_input = new_input + letter \n",
    "        \n",
    "    if index < len(user_input) - 1:\n",
    "        new_input = new_input + \"-\"\n",
    "print(new_input)\n",
    "    "
   ]
  },
  {
   "cell_type": "code",
   "execution_count": 17,
   "id": "d80aa095-4bc3-46ce-b56c-4c06bdd96011",
   "metadata": {},
   "outputs": [
    {
     "name": "stdout",
     "output_type": "stream",
     "text": [
      "10\n",
      "15\n",
      "20\n",
      "25\n",
      "30\n",
      "35\n",
      "40\n",
      "45\n",
      "50\n",
      "55\n",
      "60\n",
      "65\n",
      "70\n",
      "75\n",
      "80\n",
      "85\n",
      "90\n",
      "95\n",
      "100\n"
     ]
    }
   ],
   "source": [
    "#start from 10 and print upto 100(incl) by step size : 5\n",
    "\n",
    "#find in index od 5\n",
    "\n",
    "\n",
    "for i in range(10,101,5):\n",
    "    print(i)"
   ]
  },
  {
   "cell_type": "code",
   "execution_count": 20,
   "id": "df31c072-a9f7-4f3e-91ad-fb714656ebf8",
   "metadata": {},
   "outputs": [
    {
     "name": "stdout",
     "output_type": "stream",
     "text": [
      "35\n"
     ]
    }
   ],
   "source": [
    "number_range = range(10,101,5)\n",
    "for index,number in enumerate(number_range):\n",
    "    if index == 5:\n",
    "        print(number)"
   ]
  },
  {
   "cell_type": "code",
   "execution_count": 21,
   "id": "8c3c9c37-83f7-41e5-b62f-4198fb7b2d5e",
   "metadata": {},
   "outputs": [],
   "source": [
    "####NESTED LOOPS############"
   ]
  },
  {
   "cell_type": "code",
   "execution_count": 22,
   "id": "e012662f-5e30-48c5-b2f2-263a27b6e78d",
   "metadata": {},
   "outputs": [],
   "source": [
    "#Draw a square of starts on a screen\n",
    "#3 stars on row 3 stars on column\n"
   ]
  },
  {
   "cell_type": "code",
   "execution_count": 23,
   "id": "e3a32a18-c742-481b-849b-a1fe024ed40d",
   "metadata": {},
   "outputs": [],
   "source": [
    "#WHILE LOOP"
   ]
  },
  {
   "cell_type": "code",
   "execution_count": 25,
   "id": "082c2ca3-ccef-4e4f-ab1a-9761d37acec6",
   "metadata": {},
   "outputs": [
    {
     "name": "stdout",
     "output_type": "stream",
     "text": [
      "* * * \n",
      "* * * \n",
      "* * * \n"
     ]
    }
   ],
   "source": [
    "i = 0\n",
    "#rows\n",
    "while i < 3:\n",
    "    stars = \"\"\n",
    "\n",
    "    #columns\n",
    "    j = 0\n",
    "    while j <3:\n",
    "        stars = stars + \"* \"\n",
    "        j = j+1\n",
    "\n",
    "    print(stars)\n",
    "    i = i+1\n",
    "\n",
    "\n"
   ]
  },
  {
   "cell_type": "code",
   "execution_count": 26,
   "id": "67f6b5a7-b74e-42f6-98eb-17582e71942e",
   "metadata": {},
   "outputs": [],
   "source": [
    "## FOR LOOP"
   ]
  },
  {
   "cell_type": "code",
   "execution_count": 27,
   "id": "9384da3b-3d31-421a-b01f-8c9891c81f24",
   "metadata": {},
   "outputs": [
    {
     "name": "stdout",
     "output_type": "stream",
     "text": [
      "* * * \n",
      "* * * \n",
      "* * * \n"
     ]
    }
   ],
   "source": [
    "for i in range(3):\n",
    "    stars = \"\"\n",
    "\n",
    "    #columns\n",
    "    for j in range(3):\n",
    "        stars = stars + \"* \"\n",
    "\n",
    "    print(stars)"
   ]
  },
  {
   "cell_type": "code",
   "execution_count": 28,
   "id": "84f0f65b-6a11-4adc-ade4-6d49dc0ba7e5",
   "metadata": {},
   "outputs": [
    {
     "name": "stdin",
     "output_type": "stream",
     "text": [
      "Please enter a atext:  sdg hjk\n"
     ]
    },
    {
     "name": "stdout",
     "output_type": "stream",
     "text": [
      "s\n",
      "d\n",
      "g\n"
     ]
    }
   ],
   "source": [
    "##break\n",
    "\n",
    "text = input(\"Please enter a atext: \")\n",
    "\n",
    "for character in text:\n",
    "    if character == \" \":\n",
    "        break\n",
    "\n",
    "    print(character)"
   ]
  },
  {
   "cell_type": "code",
   "execution_count": 29,
   "id": "720e595b-672b-4573-8c28-adc85b4274c1",
   "metadata": {},
   "outputs": [],
   "source": [
    "#Start from 30 upto 100 and print numbers\n",
    "#if number is multiple of 11 then break"
   ]
  },
  {
   "cell_type": "code",
   "execution_count": 30,
   "id": "f1c7cb5e-d1a8-4b6c-98fe-84b2e7c21257",
   "metadata": {},
   "outputs": [
    {
     "name": "stdout",
     "output_type": "stream",
     "text": [
      "30\n",
      "31\n",
      "32\n",
      "33\n"
     ]
    }
   ],
   "source": [
    "for i in range(30,101):\n",
    "    if i % 11 == 0:\n",
    "        print(i)\n",
    "        break\n",
    "    else:\n",
    "        print(i)\n",
    "\n"
   ]
  },
  {
   "cell_type": "code",
   "execution_count": 31,
   "id": "8ebcf932-22cd-440e-bd93-10ab0131eda4",
   "metadata": {},
   "outputs": [
    {
     "name": "stdout",
     "output_type": "stream",
     "text": [
      "2\n",
      "4\n",
      "6\n",
      "8\n",
      "10\n"
     ]
    }
   ],
   "source": [
    "  #we want to print even numbers from 1 to 10\n",
    "\n",
    "for i in range(1,11):\n",
    "    if i % 2 == 1:\n",
    "        continue\n",
    "\n",
    "    print(i)\n",
    "    \n",
    "\n",
    "    "
   ]
  },
  {
   "cell_type": "code",
   "execution_count": 35,
   "id": "a9968550-f816-4aa1-9e92-dd93600f021f",
   "metadata": {},
   "outputs": [
    {
     "name": "stdin",
     "output_type": "stream",
     "text": [
      "Please enter a string:  python machine learning\n"
     ]
    },
    {
     "name": "stdout",
     "output_type": "stream",
     "text": [
      "p\n",
      "y\n",
      "t\n",
      "h\n",
      "o\n",
      "n\n",
      "m\n",
      "a\n",
      "c\n",
      "h\n",
      "i\n",
      "n\n",
      "e\n",
      "l\n",
      "e\n",
      "a\n",
      "r\n",
      "n\n",
      "i\n",
      "n\n",
      "g\n"
     ]
    }
   ],
   "source": [
    "# print letters in a string : if we encounter space character we will skip\n",
    "# we will printb all charcaters we will not print space\n",
    "\n",
    "text = input(\"Please enter a string: \")\n",
    "for character in text:\n",
    "    if character == \" \":\n",
    "        continue\n",
    "\n",
    "    print(character)"
   ]
  },
  {
   "cell_type": "code",
   "execution_count": 36,
   "id": "99e48e60-8014-4ba1-a08d-2b1dd7ea4b64",
   "metadata": {},
   "outputs": [],
   "source": [
    "## FOR ELSE"
   ]
  },
  {
   "cell_type": "code",
   "execution_count": 37,
   "id": "084ecab1-7d09-4cf6-8353-d2d0b0fbbb42",
   "metadata": {},
   "outputs": [],
   "source": [
    "#print numbers from 2 to 10 \n",
    "#if number is 7, exit the loop(break)\n",
    "#if the loop executes successfully we will print: \"Loop executed succesfully\""
   ]
  },
  {
   "cell_type": "code",
   "execution_count": 42,
   "id": "139e024b-19d6-4ea1-9673-afe48f04e40c",
   "metadata": {},
   "outputs": [
    {
     "name": "stdout",
     "output_type": "stream",
     "text": [
      "2\n",
      "3\n",
      "4\n",
      "5\n",
      "6\n",
      "7\n"
     ]
    }
   ],
   "source": [
    "for i in range(2,10):\n",
    "    print(i)\n",
    "    if i % 7 == 0:\n",
    "        break\n",
    "\n",
    "else:\n",
    "    print(\"Loop executed succesfully\")\n",
    "      \n",
    "    "
   ]
  },
  {
   "cell_type": "code",
   "execution_count": 43,
   "id": "f91c66a0-f01a-4f4f-a99b-95282f1d0b7a",
   "metadata": {},
   "outputs": [
    {
     "name": "stdout",
     "output_type": "stream",
     "text": [
      "2\n",
      "3\n",
      "4\n",
      "5\n",
      "6\n",
      "7\n",
      "8\n",
      "9\n",
      "Loop executed succesfully\n"
     ]
    }
   ],
   "source": [
    "for i in range(2,10):\n",
    "    print(i)\n",
    "    if i %  17 == 0:\n",
    "        break\n",
    "\n",
    "else:\n",
    "    print(\"Loop executed succesfully\")"
   ]
  },
  {
   "cell_type": "code",
   "execution_count": null,
   "id": "62edf006-35ff-4aa7-b857-29ed01f8c551",
   "metadata": {},
   "outputs": [],
   "source": []
  }
 ],
 "metadata": {
  "kernelspec": {
   "display_name": "Python 3 (ipykernel)",
   "language": "python",
   "name": "python3"
  },
  "language_info": {
   "codemirror_mode": {
    "name": "ipython",
    "version": 3
   },
   "file_extension": ".py",
   "mimetype": "text/x-python",
   "name": "python",
   "nbconvert_exporter": "python",
   "pygments_lexer": "ipython3",
   "version": "3.12.4"
  }
 },
 "nbformat": 4,
 "nbformat_minor": 5
}
