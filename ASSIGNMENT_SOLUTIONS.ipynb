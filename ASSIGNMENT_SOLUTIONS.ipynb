{
 "cells": [
  {
   "cell_type": "markdown",
   "id": "inner-nothing",
   "metadata": {},
   "source": [
    "# Project 1 - Functions"
   ]
  },
  {
   "cell_type": "markdown",
   "id": "exposed-cheese",
   "metadata": {},
   "source": [
    "https://docs.python.org/3/library/turtle.html"
   ]
  },
  {
   "cell_type": "markdown",
   "id": "removed-source",
   "metadata": {},
   "source": [
    "Complete the code with respect to **#TODO** statements."
   ]
  },
  {
   "cell_type": "code",
   "execution_count": 56,
   "id": "cultural-welsh",
   "metadata": {},
   "outputs": [],
   "source": [
    "# import the module -> turtle\n",
    "\n",
    "#TODO - import turtle module\n",
    "import turtle\n"
   ]
  },
  {
   "cell_type": "code",
   "execution_count": 57,
   "id": "quantitative-asbestos",
   "metadata": {},
   "outputs": [],
   "source": [
    "#TODO - create a turtle object and name it as t\n",
    "t = turtle.Turtle()"
   ]
  },
  {
   "cell_type": "code",
   "execution_count": 58,
   "id": "multiple-monaco",
   "metadata": {},
   "outputs": [],
   "source": [
    "t.fd(100)"
   ]
  },
  {
   "cell_type": "code",
   "execution_count": 59,
   "id": "fatty-participant",
   "metadata": {},
   "outputs": [],
   "source": [
    "t.lt(90)"
   ]
  },
  {
   "cell_type": "code",
   "execution_count": 60,
   "id": "visible-malpractice",
   "metadata": {},
   "outputs": [],
   "source": [
    "#TODO - move turtle t 300 pixels forward\n",
    "t.fd(100)"
   ]
  },
  {
   "cell_type": "code",
   "execution_count": 61,
   "id": "christian-notion",
   "metadata": {},
   "outputs": [],
   "source": [
    "#TODO - turn turtle to the left by 90 degrees\n",
    "t.lt(90)"
   ]
  },
  {
   "cell_type": "code",
   "execution_count": 62,
   "id": "intelligent-norfolk",
   "metadata": {},
   "outputs": [],
   "source": [
    "#TODO - move turtle t 100 pixels forward\n",
    "t.fd(100)"
   ]
  },
  {
   "cell_type": "code",
   "execution_count": 63,
   "id": "muslim-charlotte",
   "metadata": {},
   "outputs": [],
   "source": [
    "#TODO - turn turtle to the left by 90 degrees\n",
    "t.fd(90)"
   ]
  },
  {
   "cell_type": "code",
   "execution_count": 64,
   "id": "blind-precipitation",
   "metadata": {},
   "outputs": [],
   "source": [
    "#TODO - move turtle t 300 pixels forward\n",
    "t.fd(300)"
   ]
  },
  {
   "cell_type": "markdown",
   "id": "seasonal-multiple",
   "metadata": {},
   "source": [
    "Move functions:\n",
    "* fd(px) -> forward\n",
    "* bk(px) -> backward\n",
    "* lt(angle) -> turns left\n",
    "* rt(angles) -> turns right"
   ]
  },
  {
   "cell_type": "code",
   "execution_count": 65,
   "id": "offshore-reader",
   "metadata": {},
   "outputs": [],
   "source": [
    "# clear screen\n",
    "t.clear()"
   ]
  },
  {
   "cell_type": "code",
   "execution_count": 66,
   "id": "concrete-venezuela",
   "metadata": {},
   "outputs": [],
   "source": [
    "turtle.resetscreen()"
   ]
  },
  {
   "cell_type": "code",
   "execution_count": 67,
   "id": "rental-compromise",
   "metadata": {},
   "outputs": [],
   "source": [
    "# We want to create a squre\n",
    "\n",
    "# Move 100 pixel forward\n",
    "# Turn left 90 deg\n",
    "\n",
    "# Move 100 pixel forward\n",
    "# Turn left 90 deg\n",
    "\n",
    "# Move 100 pixel forward\n",
    "# Turn left 90 deg\n",
    "\n",
    "# Move 100 pixel forward\n",
    "# Turn left 90 deg\n",
    "\n",
    "t.fd(100)\n",
    "t.lt(90)\n",
    "\n",
    "t.fd(100)\n",
    "t.lt(90)\n",
    "\n",
    "t.fd(100)\n",
    "t.lt(90)\n",
    "\n",
    "t.fd(100)\n",
    "t.lt(90)"
   ]
  },
  {
   "cell_type": "code",
   "execution_count": 69,
   "id": "wooden-restriction",
   "metadata": {},
   "outputs": [],
   "source": [
    "#TODO - reset turtle screen\n",
    "turtle.resetscreen()"
   ]
  },
  {
   "cell_type": "code",
   "execution_count": 70,
   "id": "alone-hampton",
   "metadata": {},
   "outputs": [],
   "source": [
    "\n",
    "# with loop\n",
    "\n",
    "#for i in range(...#TODO...):\n",
    "    #TODO - move forward and turn left\n",
    "for i in range(4):\n",
    "    t.fd(100)\n",
    "    t.lt(90)"
   ]
  },
  {
   "cell_type": "markdown",
   "id": "front-engineer",
   "metadata": {},
   "source": [
    "**Example 1:**\n",
    "\n",
    "Create a square with a function -> **square**\n",
    "\n",
    "Parameters: turtle object, d in pixels"
   ]
  },
  {
   "cell_type": "code",
   "execution_count": 71,
   "id": "modern-spirit",
   "metadata": {},
   "outputs": [],
   "source": [
    "# square\n",
    "\n",
    "def square(t, d, is_screen_reset):\n",
    "    \"\"\"\n",
    "    It draws square with turtle.\n",
    "    Parameters: turtle t, int d, bool is_screen_reset\n",
    "    Returns: None\n",
    "    \"\"\"\n",
    "    \n",
    "    # reset screen\n",
    "    if is_screen_reset == True:\n",
    "        reset()\n",
    "      \n",
    "\n",
    "    for i in range(4):\n",
    "        t.fd(d)\n",
    "        t.lt(90)\n",
    "   \n"
   ]
  },
  {
   "cell_type": "code",
   "execution_count": 72,
   "id": "forward-accused",
   "metadata": {},
   "outputs": [],
   "source": [
    "# reset\n",
    "\n",
    "def reset():\n",
    "    turtle.resetscreen()\n",
    "    #TODO - call turtle modules resetscreen function\n",
    "    \n",
    "    "
   ]
  },
  {
   "cell_type": "code",
   "execution_count": 73,
   "id": "noble-preference",
   "metadata": {},
   "outputs": [],
   "source": [
    "square(t, 200, True)"
   ]
  },
  {
   "cell_type": "code",
   "execution_count": 74,
   "id": "artistic-moldova",
   "metadata": {},
   "outputs": [],
   "source": [
    "#TODO - call square function with: t, 300 distance and resetting screen\n",
    "square(t, 300, True)\n"
   ]
  },
  {
   "cell_type": "code",
   "execution_count": 75,
   "id": "broken-stockholm",
   "metadata": {},
   "outputs": [],
   "source": [
    "#TODO - call square function with: t, 300 distance and NOT resetting screen\n",
    "square(t, 300, False)\n"
   ]
  },
  {
   "cell_type": "code",
   "execution_count": 76,
   "id": "altered-madagascar",
   "metadata": {},
   "outputs": [],
   "source": [
    "# 20 - 40 - 60 80 - ... - 200\n",
    "\n",
    "reset()\n",
    "\n",
    "for i in range(1, 11):\n",
    "    #TODO - call square function with NOT resetting screen and appropriate parameters\n",
    "    \n",
    "    square(t, i * 20, False)\n"
   ]
  },
  {
   "cell_type": "markdown",
   "id": "dirty-outreach",
   "metadata": {},
   "source": [
    "**Example 2:**\n",
    "\n",
    "Draw a polygon."
   ]
  },
  {
   "cell_type": "code",
   "execution_count": 94,
   "id": "miniature-fence",
   "metadata": {},
   "outputs": [],
   "source": [
    "# polygon\n",
    "\n",
    "def polygon(t, d, n, is_reset):\n",
    "    #TODO - write the function documentation\n",
    "    \"\"\"\n",
    "    Drwas a polygon\n",
    "    parameters: turtle t, int d, int n, bool reset\n",
    "    returns: None\n",
    "    \n",
    "    \"\"\"\n",
    "    # resetting\n",
    "    #TODO - check if screen will be resetted and reset if needed\n",
    "   \n",
    "    if is_reset:\n",
    "       reset()\n",
    "    # angle\n",
    "    angle = 360 / n\n",
    "    \n",
    "     # polygon\n",
    "    for i in range(n):\n",
    "        #TODO - move and turn the turtle to draw polygon\n",
    "        t.fd(d)\n",
    "        t.lt(angle)"
   ]
  },
  {
   "cell_type": "code",
   "execution_count": 95,
   "id": "sophisticated-rough",
   "metadata": {},
   "outputs": [],
   "source": [
    "polygon(t, 100, 6, True)"
   ]
  },
  {
   "cell_type": "markdown",
   "id": "above-inspector",
   "metadata": {},
   "source": [
    "**Named Arguments:**\n",
    "\n",
    "When you call a function and passing parameters:\n",
    "\n",
    "`function_name(parameter_name = parameter_value)`"
   ]
  },
  {
   "cell_type": "code",
   "execution_count": 80,
   "id": "starting-exclusion",
   "metadata": {},
   "outputs": [],
   "source": [
    "polygon(t=t, d=200, n=8, is_reset=False)"
   ]
  },
  {
   "cell_type": "code",
   "execution_count": 81,
   "id": "personalized-attachment",
   "metadata": {},
   "outputs": [],
   "source": [
    "#TODO - call square function with named parameters -> t for turtle, 250 for d and True for is_screen_reset\n",
    "square(t = t,d= 250, is_screen_reset = False)\n"
   ]
  },
  {
   "cell_type": "markdown",
   "id": "outer-perfume",
   "metadata": {},
   "source": [
    "**Example 3:**\n",
    "\n",
    "Draw a Circle ->\n",
    "\n",
    "* t\n",
    "* r"
   ]
  },
  {
   "cell_type": "code",
   "execution_count": 96,
   "id": "invisible-commander",
   "metadata": {},
   "outputs": [],
   "source": [
    "import math\n",
    "\n",
    "def circle(t, r, is_reset):\n",
    "    \"\"\"\n",
    "    Draws a circle.\n",
    "    Parameters: turtle t, int r, bool is_screen_reset\n",
    "    Returns: None (void)\n",
    "    \"\"\"\n",
    "    \n",
    "    # perimeter -> total distance to draw\n",
    "    # TODO - Calculate the perimeter of circle -> 2 * math.pi * r\n",
    "    perimeter = 2* math.pi * r\n",
    "    # steps -> 360 / angles (10)\n",
    "    steps = int(360 / 10)\n",
    "    # angle of an arc\n",
    "     \n",
    "    # TODO - Calculate number of steps for arc of 10 degrees, then convert into int\n",
    "    \n",
    "    # distance -> distance to draw in each arc\n",
    "    # TODO - Calculate the distance\n",
    "    distance = perimeter / steps\n",
    "    # call polygon\n",
    "    #TODO - Call polygon function with appropriate parameters\n",
    "    polygon(t, d= distance,  n = steps, is_reset = is_reset)"
   ]
  },
  {
   "cell_type": "code",
   "execution_count": 97,
   "id": "printable-publication",
   "metadata": {},
   "outputs": [],
   "source": [
    "circle(t, 200, True)"
   ]
  },
  {
   "cell_type": "code",
   "execution_count": 98,
   "id": "offshore-economics",
   "metadata": {},
   "outputs": [],
   "source": [
    "# TODO - call reset() function\n",
    "reset()\n",
    "\n",
    "for i in range(1,4):\n",
    "    circle(t, i * 50, False)\n",
    "\n"
   ]
  },
  {
   "cell_type": "markdown",
   "id": "naval-acrobat",
   "metadata": {},
   "source": [
    "**Example 4:**\n",
    "\n",
    "Draw a star."
   ]
  },
  {
   "cell_type": "code",
   "execution_count": 86,
   "id": "significant-saver",
   "metadata": {},
   "outputs": [
    {
     "data": {
      "text/plain": [
       "144.0"
      ]
     },
     "execution_count": 86,
     "metadata": {},
     "output_type": "execute_result"
    }
   ],
   "source": [
    "# angle of a 5 sized star\n",
    "\n",
    "angle = 180 / 5\n",
    "angle = 180 - angle\n",
    "angle"
   ]
  },
  {
   "cell_type": "markdown",
   "id": "intellectual-invite",
   "metadata": {},
   "source": [
    "Fixed size star."
   ]
  },
  {
   "cell_type": "code",
   "execution_count": 115,
   "id": "interim-firmware",
   "metadata": {
    "scrolled": true
   },
   "outputs": [],
   "source": [
    "def star(t, d, is_reset, color):\n",
    "    \"\"\"\n",
    "    Draws a star with 5 sizes.\n",
    "    Parameters: turtle t, int d, bool is_screen_reset, str color\n",
    "    \"\"\"\n",
    "    \n",
    "    # resetting\n",
    "    if is_reset:\n",
    "        reset()\n",
    "        \n",
    "    # angle\n",
    "    angle = 180 / 5\n",
    "    angle = 180 - angle\n",
    "    \n",
    "    # line color -> pen color\n",
    "    t.color(color)\n",
    "    \n",
    "    # start the filling\n",
    "    t.fillcolor(color)\n",
    "    t.begin_fill()\n",
    "    \n",
    "    for i in range(5):\n",
    "        t.fd(d)\n",
    "        t.lt(angle)\n",
    "    t.end_fill()\n",
    "    # end the filling\n",
    "   \n",
    "    "
   ]
  },
  {
   "cell_type": "code",
   "execution_count": 116,
   "id": "automated-variation",
   "metadata": {},
   "outputs": [],
   "source": [
    "star(t, 300, is_reset =True, color='green')"
   ]
  },
  {
   "cell_type": "code",
   "execution_count": 117,
   "id": "decreased-family",
   "metadata": {},
   "outputs": [],
   "source": [
    "star(t, 200, is_reset=False, color='orange')"
   ]
  },
  {
   "cell_type": "code",
   "execution_count": 118,
   "id": "cloudy-london",
   "metadata": {},
   "outputs": [],
   "source": [
    "star(t, 100, is_reset=False, color='purple')"
   ]
  },
  {
   "cell_type": "markdown",
   "id": "ambient-latvia",
   "metadata": {},
   "source": [
    "Variable size star."
   ]
  },
  {
   "cell_type": "code",
   "execution_count": 130,
   "id": "blank-three",
   "metadata": {},
   "outputs": [],
   "source": [
    "def star(t, d, n, is_reset, color):\n",
    "    \"\"\"\n",
    "    Draws a star with n sizes.\n",
    "    Parameters: turtle t, int d, int n, bool is_screen_reset, str color\n",
    "    \"\"\"\n",
    "    \n",
    "    # resetting\n",
    "    # TODO - call reset screen based on is_screen_reset\n",
    "    if is_reset:\n",
    "       reset()   \n",
    "    # angle\n",
    "    # TODO - Calculate the angle for n sizes\n",
    "    angle = 180 / n\n",
    "    angle = 180 - angle\n",
    "    # line color -> pen color\n",
    "    # TODO - set the line color\n",
    "    t.color(color)\n",
    "    # start the filling\n",
    "    # TODO - set the fill color\n",
    "    # TODO - begin fill\n",
    "    t.fillcolor(color)\n",
    "    t.begin_fill()\n",
    "    # n sized star\n",
    "    for i in range(n):\n",
    "        #TODO - move and turn the turtle to draw a star\n",
    "        t.fd(d)\n",
    "        t.lt(angle)\n",
    "    # end the filling\n",
    "    # TODO - end fill\n",
    "    t.end_fill()"
   ]
  },
  {
   "cell_type": "code",
   "execution_count": 132,
   "id": "adaptive-auckland",
   "metadata": {},
   "outputs": [],
   "source": [
    "star(t, 300, 10, is_reset=True, color='red')"
   ]
  },
  {
   "cell_type": "code",
   "execution_count": 133,
   "id": "sound-irrigation",
   "metadata": {},
   "outputs": [],
   "source": [
    "star(t, 300, 11, is_reset=True, color='yellow')"
   ]
  },
  {
   "cell_type": "markdown",
   "id": "centered-horizon",
   "metadata": {},
   "source": [
    "Different fill and pen colors."
   ]
  },
  {
   "cell_type": "code",
   "execution_count": 136,
   "id": "smoking-picnic",
   "metadata": {},
   "outputs": [],
   "source": [
    "def star(t, d, n, is_reset, pen_color, fill_color):\n",
    "    \"\"\"\n",
    "    Draws a star with n sizes.\n",
    "    Parameters: turtle t, int d, int n, bool is_screen_reset, str pen_color, fill_color\n",
    "    \"\"\"\n",
    "    \n",
    "    # resetting\n",
    "    # TODO - call reset screen based on is_screen_reset\n",
    "    if is_reset:\n",
    "        reset()    \n",
    "    # angle\n",
    "    # TODO - Calculate the angle for n sizes\n",
    "    angle = 180 / n\n",
    "    angle = 180 - angle\n",
    "    # line color -> pen color\n",
    "    # TODO - set the line color\n",
    "    t.color(pen_color)\n",
    "    # start the filling\n",
    "    # TODO - set the fill color\n",
    "    # TODO - begin fill\n",
    "    t.fillcolor(fill_color)\n",
    "    t.begin_fill()\n",
    "    # n sized star\n",
    "    for i in range(n):\n",
    "        t.fd(d)\n",
    "        t.lt(angle)\n",
    "    \n",
    "    # end the filling\n",
    "    # TODO - end fill\n",
    "    t.end_fill()"
   ]
  },
  {
   "cell_type": "code",
   "execution_count": 137,
   "id": "professional-poverty",
   "metadata": {},
   "outputs": [],
   "source": [
    "star(t, 300, 15, is_reset=True, pen_color='red', fill_color='yellow')"
   ]
  },
  {
   "cell_type": "code",
   "execution_count": null,
   "id": "floating-immigration",
   "metadata": {},
   "outputs": [],
   "source": [
    "# last statement -> before close\n",
    "# restart the kernel after you close the turtle\n",
    "\n",
    "turtle.mainloop()"
   ]
  },
  {
   "cell_type": "code",
   "execution_count": null,
   "id": "contemporary-introduction",
   "metadata": {},
   "outputs": [],
   "source": []
  }
 ],
 "metadata": {
  "kernelspec": {
   "display_name": "Python 3 (ipykernel)",
   "language": "python",
   "name": "python3"
  },
  "language_info": {
   "codemirror_mode": {
    "name": "ipython",
    "version": 3
   },
   "file_extension": ".py",
   "mimetype": "text/x-python",
   "name": "python",
   "nbconvert_exporter": "python",
   "pygments_lexer": "ipython3",
   "version": "3.12.4"
  }
 },
 "nbformat": 4,
 "nbformat_minor": 5
}
