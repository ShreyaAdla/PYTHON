{
 "cells": [
  {
   "cell_type": "code",
   "execution_count": 70,
   "id": "d662471e-ccdb-4be0-80d6-963d8d45769a",
   "metadata": {},
   "outputs": [],
   "source": [
    "import turtle"
   ]
  },
  {
   "cell_type": "code",
   "execution_count": 72,
   "id": "0ab71f03-40f8-4dac-b7db-07536b94dd11",
   "metadata": {},
   "outputs": [],
   "source": [
    "t = turtle.Turtle()"
   ]
  },
  {
   "cell_type": "code",
   "execution_count": 5,
   "id": "17bcafd5-3461-430e-b45f-7eccc5e4e5ea",
   "metadata": {},
   "outputs": [],
   "source": [
    "t.fd(100)"
   ]
  },
  {
   "cell_type": "code",
   "execution_count": 5,
   "id": "721c39ba-016a-4813-8370-abecd3ff5d1b",
   "metadata": {},
   "outputs": [],
   "source": [
    "t.lt(100)"
   ]
  },
  {
   "cell_type": "code",
   "execution_count": 7,
   "id": "2acdd015-1e24-44b7-8b1e-f7f24af027ab",
   "metadata": {},
   "outputs": [],
   "source": [
    "t.fd(100)"
   ]
  },
  {
   "cell_type": "code",
   "execution_count": 8,
   "id": "e2801573-b90a-4f22-83c1-4a3b6d5a378c",
   "metadata": {},
   "outputs": [],
   "source": [
    "t.lt(100)"
   ]
  },
  {
   "cell_type": "code",
   "execution_count": 9,
   "id": "39200008-eb28-4e1e-aeab-ed9a48bca342",
   "metadata": {},
   "outputs": [],
   "source": [
    "t.fd(100)"
   ]
  },
  {
   "cell_type": "code",
   "execution_count": 10,
   "id": "1fd1d7bc-f615-4827-8781-1aaf74b7c17a",
   "metadata": {},
   "outputs": [],
   "source": [
    "\n",
    "t.lt(100)"
   ]
  },
  {
   "cell_type": "code",
   "execution_count": 11,
   "id": "8f127d94-a083-4ae8-a1ea-1acb58481741",
   "metadata": {},
   "outputs": [],
   "source": [
    "t.fd(100)"
   ]
  },
  {
   "cell_type": "code",
   "execution_count": 12,
   "id": "68d28087-e8b3-41f4-9e8b-b25842106d28",
   "metadata": {},
   "outputs": [],
   "source": [
    "t.clear()"
   ]
  },
  {
   "cell_type": "code",
   "execution_count": 13,
   "id": "a94979d2-c970-4081-9e41-7459b97c1a9b",
   "metadata": {},
   "outputs": [],
   "source": [
    "turtle.resetscreen()"
   ]
  },
  {
   "cell_type": "code",
   "execution_count": 18,
   "id": "31cf64d1-9dd7-49f1-8487-f56ebc725820",
   "metadata": {},
   "outputs": [],
   "source": [
    "for i in range(4):\n",
    "    t.fd(100)\n",
    "    t.lt(90)"
   ]
  },
  {
   "cell_type": "code",
   "execution_count": 19,
   "id": "97674c2e-ecff-4a53-ab8b-0ca4cfca399b",
   "metadata": {},
   "outputs": [],
   "source": [
    "turtle.resetscreen()"
   ]
  },
  {
   "cell_type": "code",
   "execution_count": 20,
   "id": "b7a25257-b511-45eb-a38a-d9116be9e675",
   "metadata": {},
   "outputs": [],
   "source": [
    "for i in range(4):\n",
    "    t.fd(100)\n",
    "    t.lt(90)"
   ]
  },
  {
   "cell_type": "code",
   "execution_count": 41,
   "id": "177dce2d-b69f-4fdb-9a2c-8116ae8c484d",
   "metadata": {},
   "outputs": [],
   "source": [
    "#square\n",
    "\n",
    "\n",
    "def square(t, d, is_reset):\n",
    "    \n",
    "    if is_reset == True:\n",
    "       reset() \n",
    "\n",
    "    for i in range(4):\n",
    "        t.fd(d)\n",
    "        t.lt(90)\n"
   ]
  },
  {
   "cell_type": "code",
   "execution_count": 42,
   "id": "f222a320-3e96-406a-a3ec-53ac27592bb4",
   "metadata": {},
   "outputs": [],
   "source": [
    "def reset():\n",
    "    turtle.resetscreen()"
   ]
  },
  {
   "cell_type": "code",
   "execution_count": 43,
   "id": "983ba068-f9d7-4d05-9fb5-7db4e1fd71f8",
   "metadata": {},
   "outputs": [],
   "source": [
    "square(t,40,True)"
   ]
  },
  {
   "cell_type": "code",
   "execution_count": 73,
   "id": "c0049762-9ac5-4c57-b9a5-984b1a435e53",
   "metadata": {},
   "outputs": [],
   "source": [
    "square(t, 500, False)"
   ]
  },
  {
   "cell_type": "code",
   "execution_count": 74,
   "id": "c245de45-bbdf-443c-957d-970e63cc730d",
   "metadata": {},
   "outputs": [],
   "source": [
    "# polygon\n",
    "def reset():\n",
    "    turtle.resetscreen()\n",
    "\n",
    "\n",
    "def polygon(t,d,n,is_reset):\n",
    "\n",
    "    if is_reset:\n",
    "        reset() \n",
    "    angle = 360 / n\n",
    "    for i in range(n):\n",
    "        t.fd(d)\n",
    "        t.lt(angle)\n"
   ]
  },
  {
   "cell_type": "code",
   "execution_count": 75,
   "id": "dc2cca62-1559-448b-87cf-a89464cc45dd",
   "metadata": {},
   "outputs": [],
   "source": [
    "\n",
    "\n",
    "polygon(t, 100, 6, True)"
   ]
  },
  {
   "cell_type": "code",
   "execution_count": null,
   "id": "15f8be59-6159-4842-9da6-1446c19b7017",
   "metadata": {},
   "outputs": [],
   "source": [
    "\n",
    "def circel(t,r):\n",
    "    "
   ]
  }
 ],
 "metadata": {
  "kernelspec": {
   "display_name": "Python 3 (ipykernel)",
   "language": "python",
   "name": "python3"
  },
  "language_info": {
   "codemirror_mode": {
    "name": "ipython",
    "version": 3
   },
   "file_extension": ".py",
   "mimetype": "text/x-python",
   "name": "python",
   "nbconvert_exporter": "python",
   "pygments_lexer": "ipython3",
   "version": "3.12.4"
  }
 },
 "nbformat": 4,
 "nbformat_minor": 5
}
