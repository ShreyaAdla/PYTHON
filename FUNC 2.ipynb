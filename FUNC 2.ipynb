{
 "cells": [
  {
   "cell_type": "markdown",
   "id": "4ff43e53-e222-4362-ac16-2b7f15760c83",
   "metadata": {},
   "source": [
    "LAMBDA Functions: functions without name"
   ]
  },
  {
   "cell_type": "code",
   "execution_count": 2,
   "id": "efd7dc40-f88c-464d-b524-2142c314ec89",
   "metadata": {},
   "outputs": [],
   "source": [
    "split_text = lambda text : text.split()"
   ]
  },
  {
   "cell_type": "code",
   "execution_count": 4,
   "id": "4c12a9f6-09b7-4a48-b81b-f3f13b0a8b2a",
   "metadata": {},
   "outputs": [
    {
     "data": {
      "text/plain": [
       "['Hi', 'Shreya!', 'How', 'are', 'you']"
      ]
     },
     "execution_count": 4,
     "metadata": {},
     "output_type": "execute_result"
    }
   ],
   "source": [
    "split_text(\"Hi Shreya! How are you\")"
   ]
  },
  {
   "cell_type": "code",
   "execution_count": 5,
   "id": "35990fc3-0c91-4d0c-b1be-37bc5739841c",
   "metadata": {},
   "outputs": [],
   "source": [
    "# MULTIPLICATION WITH LAMBDA"
   ]
  },
  {
   "cell_type": "code",
   "execution_count": 6,
   "id": "05dc50b9-d2a6-4c93-bd29-e67835646604",
   "metadata": {},
   "outputs": [],
   "source": [
    "multiply = lambda n1,n2 : n1 * n2"
   ]
  },
  {
   "cell_type": "code",
   "execution_count": 7,
   "id": "b93149b7-147e-42f1-a771-8ca6c2b01142",
   "metadata": {},
   "outputs": [
    {
     "data": {
      "text/plain": [
       "6"
      ]
     },
     "execution_count": 7,
     "metadata": {},
     "output_type": "execute_result"
    }
   ],
   "source": [
    "multiply(2,3)"
   ]
  },
  {
   "cell_type": "code",
   "execution_count": 8,
   "id": "40ff66b4-6a30-4c83-aee5-ec3cfe54784d",
   "metadata": {},
   "outputs": [],
   "source": [
    "#FUNCTIONS RETURNING FUNCTIONS"
   ]
  },
  {
   "cell_type": "code",
   "execution_count": 10,
   "id": "14242537-220f-49f9-b71a-b79f944ab2bd",
   "metadata": {},
   "outputs": [],
   "source": [
    "def multiply_double(n1):\n",
    "    return lambda n2 : n1 * n2"
   ]
  },
  {
   "cell_type": "code",
   "execution_count": 11,
   "id": "8b967eaa-9f5f-4263-ad11-57afdefc17bd",
   "metadata": {},
   "outputs": [],
   "source": [
    "double_result = multiply_double(2)"
   ]
  },
  {
   "cell_type": "code",
   "execution_count": 12,
   "id": "28de6bca-7685-494b-a3b1-2cdeeea41851",
   "metadata": {},
   "outputs": [
    {
     "data": {
      "text/plain": [
       "function"
      ]
     },
     "execution_count": 12,
     "metadata": {},
     "output_type": "execute_result"
    }
   ],
   "source": [
    "type(double_result)"
   ]
  },
  {
   "cell_type": "code",
   "execution_count": 13,
   "id": "cf446e05-ec28-411a-b7f3-1d86f36a05b3",
   "metadata": {},
   "outputs": [
    {
     "data": {
      "text/plain": [
       "8"
      ]
     },
     "execution_count": 13,
     "metadata": {},
     "output_type": "execute_result"
    }
   ],
   "source": [
    "double_result(4)"
   ]
  },
  {
   "cell_type": "code",
   "execution_count": 14,
   "id": "1cdb5732-4afc-4c1f-b7b1-7ed12e14ac08",
   "metadata": {},
   "outputs": [
    {
     "data": {
      "text/plain": [
       "12"
      ]
     },
     "execution_count": 14,
     "metadata": {},
     "output_type": "execute_result"
    }
   ],
   "source": [
    "double_result(6)"
   ]
  },
  {
   "cell_type": "code",
   "execution_count": 15,
   "id": "c84defb8-1591-4250-90bd-7f4cab1db646",
   "metadata": {},
   "outputs": [
    {
     "data": {
      "text/plain": [
       "20"
      ]
     },
     "execution_count": 15,
     "metadata": {},
     "output_type": "execute_result"
    }
   ],
   "source": [
    "double_result(10)"
   ]
  },
  {
   "cell_type": "code",
   "execution_count": 16,
   "id": "dd1aa9c9-ba5c-49a6-818c-54a3aac529d0",
   "metadata": {},
   "outputs": [
    {
     "data": {
      "text/plain": [
       "10"
      ]
     },
     "execution_count": 16,
     "metadata": {},
     "output_type": "execute_result"
    }
   ],
   "source": [
    "double_result(5)"
   ]
  },
  {
   "cell_type": "code",
   "execution_count": 17,
   "id": "5013ad7e-055c-421f-894c-38a1f3544662",
   "metadata": {},
   "outputs": [],
   "source": [
    "triple_result = multiply_double(3)"
   ]
  },
  {
   "cell_type": "code",
   "execution_count": 18,
   "id": "b0a8f885-bdc7-4c64-80a4-16780c8b261a",
   "metadata": {},
   "outputs": [
    {
     "data": {
      "text/plain": [
       "function"
      ]
     },
     "execution_count": 18,
     "metadata": {},
     "output_type": "execute_result"
    }
   ],
   "source": [
    "type(triple_result)"
   ]
  },
  {
   "cell_type": "code",
   "execution_count": 19,
   "id": "478c7c7e-fe1c-4245-b5bc-f2ba1495855f",
   "metadata": {},
   "outputs": [
    {
     "data": {
      "text/plain": [
       "18"
      ]
     },
     "execution_count": 19,
     "metadata": {},
     "output_type": "execute_result"
    }
   ],
   "source": [
    "triple_result(6)"
   ]
  },
  {
   "cell_type": "code",
   "execution_count": 20,
   "id": "f6941b73-aca0-4912-ac69-bc8323207ec7",
   "metadata": {},
   "outputs": [
    {
     "data": {
      "text/plain": [
       "9"
      ]
     },
     "execution_count": 20,
     "metadata": {},
     "output_type": "execute_result"
    }
   ],
   "source": [
    "triple_result(3)"
   ]
  },
  {
   "cell_type": "code",
   "execution_count": null,
   "id": "fa562dd2-8231-4f1b-8dd4-3c538651bfa8",
   "metadata": {},
   "outputs": [],
   "source": [
    "#NESTED FUNCTIONS\n",
    "\n",
    "def check_multiplier"
   ]
  }
 ],
 "metadata": {
  "kernelspec": {
   "display_name": "Python 3 (ipykernel)",
   "language": "python",
   "name": "python3"
  },
  "language_info": {
   "codemirror_mode": {
    "name": "ipython",
    "version": 3
   },
   "file_extension": ".py",
   "mimetype": "text/x-python",
   "name": "python",
   "nbconvert_exporter": "python",
   "pygments_lexer": "ipython3",
   "version": "3.12.4"
  }
 },
 "nbformat": 4,
 "nbformat_minor": 5
}
