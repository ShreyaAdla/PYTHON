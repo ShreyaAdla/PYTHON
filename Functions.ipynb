{
 "cells": [
  {
   "cell_type": "code",
   "execution_count": 1,
   "id": "8be59716-18b4-40f3-ac3a-69050cb79531",
   "metadata": {},
   "outputs": [
    {
     "data": {
      "text/plain": [
       "0.5235987755982988"
      ]
     },
     "execution_count": 1,
     "metadata": {},
     "output_type": "execute_result"
    }
   ],
   "source": [
    "import math\n",
    "math.radians(30)"
   ]
  },
  {
   "cell_type": "code",
   "execution_count": 3,
   "id": "9ea88f34-e5d3-4ec9-8628-ff7f4ea9b557",
   "metadata": {},
   "outputs": [
    {
     "name": "stdout",
     "output_type": "stream",
     "text": [
      "Name : Shreya\n"
     ]
    }
   ],
   "source": [
    "#Student data\n",
    "#print student date where name is Shreya, age is 24. language is python\n",
    "\n",
    "def student_name():\n",
    "    print(\"Name : Shreya\")\n",
    "student_name()\n",
    "    "
   ]
  },
  {
   "cell_type": "code",
   "execution_count": 4,
   "id": "0fa25d1e-7ada-4435-9f10-e4f20a2d7d84",
   "metadata": {},
   "outputs": [
    {
     "name": "stdout",
     "output_type": "stream",
     "text": [
      "Age : 24\n"
     ]
    }
   ],
   "source": [
    "def student_age():\n",
    "    print(\"Age : 24\")\n",
    "student_age()"
   ]
  },
  {
   "cell_type": "code",
   "execution_count": 6,
   "id": "b7a9e3e7-e1f8-4a04-bb1e-37872629955d",
   "metadata": {},
   "outputs": [
    {
     "name": "stdout",
     "output_type": "stream",
     "text": [
      "Language : Python\n"
     ]
    }
   ],
   "source": [
    "def student_language():\n",
    "    print(\"Language : Python\")\n",
    "student_language()"
   ]
  },
  {
   "cell_type": "code",
   "execution_count": 7,
   "id": "fd465a9b-a250-4417-aac9-c27f5795eda0",
   "metadata": {},
   "outputs": [
    {
     "name": "stdout",
     "output_type": "stream",
     "text": [
      "Name : Shreya\n",
      "Age : 24\n",
      "Language : Python\n"
     ]
    }
   ],
   "source": [
    "student_name()\n",
    "student_age()\n",
    "student_language()"
   ]
  },
  {
   "cell_type": "code",
   "execution_count": 8,
   "id": "192ed5e1-43d2-4d9c-ba16-1ce7c9e5ae91",
   "metadata": {},
   "outputs": [
    {
     "name": "stdout",
     "output_type": "stream",
     "text": [
      "Name : Shreya\n",
      "Age : 24\n",
      "Language : Python\n"
     ]
    }
   ],
   "source": [
    "def student_data():\n",
    "    student_name()\n",
    "    student_age()\n",
    "    student_language()\n",
    "student_data()"
   ]
  },
  {
   "cell_type": "code",
   "execution_count": 9,
   "id": "299af368-f922-4ba5-94ec-d3200376ccb1",
   "metadata": {},
   "outputs": [
    {
     "name": "stdout",
     "output_type": "stream",
     "text": [
      "Name : Shreya\n",
      "Age : 24\n",
      "Language : Python\n"
     ]
    }
   ],
   "source": [
    "student_data()"
   ]
  },
  {
   "cell_type": "code",
   "execution_count": 10,
   "id": "ae8a2195-f048-4fe6-8c07-98a999a8c4e3",
   "metadata": {},
   "outputs": [
    {
     "name": "stdout",
     "output_type": "stream",
     "text": [
      "Name : Shreya\n",
      "Lastname : Adla\n"
     ]
    }
   ],
   "source": [
    "def student_firstname():\n",
    "    print(\"Name : Shreya\")\n",
    "def student_lastname():\n",
    "    print(\"Lastname : Adla\")\n",
    "def student_name():\n",
    "    student_firstname()\n",
    "    student_lastname()\n",
    "student_name()"
   ]
  },
  {
   "cell_type": "code",
   "execution_count": 11,
   "id": "44f68627-6bfc-4015-8f46-000a1fa73099",
   "metadata": {},
   "outputs": [
    {
     "name": "stdout",
     "output_type": "stream",
     "text": [
      "Name : Shreya\n",
      "Lastname : Adla\n",
      "Age : 24\n",
      "Language : Python\n"
     ]
    }
   ],
   "source": [
    "student_data()"
   ]
  },
  {
   "cell_type": "code",
   "execution_count": 12,
   "id": "cc500057-7739-4662-a682-f8d8c1a4bb32",
   "metadata": {},
   "outputs": [
    {
     "name": "stdout",
     "output_type": "stream",
     "text": [
      "4\n"
     ]
    }
   ],
   "source": [
    "def square_num(number):\n",
    "    square=number**2\n",
    "    print(square)\n",
    "square_num(2)"
   ]
  },
  {
   "cell_type": "code",
   "execution_count": 13,
   "id": "8293aa89-e977-4ba7-816a-4df0570ad8ce",
   "metadata": {},
   "outputs": [
    {
     "name": "stdout",
     "output_type": "stream",
     "text": [
      "8\n"
     ]
    }
   ],
   "source": [
    "def area_rectangle(length,breadth):\n",
    "    area =  length * breadth\n",
    "    print(area)\n",
    "area_rectangle(2,4)"
   ]
  },
  {
   "cell_type": "code",
   "execution_count": 14,
   "id": "b3767eef-f427-4470-b62c-d31bf587d8ff",
   "metadata": {},
   "outputs": [
    {
     "name": "stdout",
     "output_type": "stream",
     "text": [
      "8\n"
     ]
    }
   ],
   "source": [
    "l = 2\n",
    "b = 4\n",
    "area_rectangle(l,b)"
   ]
  },
  {
   "cell_type": "code",
   "execution_count": 54,
   "id": "e8ce7244-c81f-4f56-b9d7-459e47307f0f",
   "metadata": {},
   "outputs": [
    {
     "name": "stdout",
     "output_type": "stream",
     "text": [
      "Name : Shreya\n",
      "Lastname : Adla\n",
      "Age : 24\n",
      "Language : python\n"
     ]
    }
   ],
   "source": [
    "#student data with parameter...we will give i/p\n",
    "def student_data(firstname,lastname,age,language):\n",
    "    student_firstname(firstname)\n",
    "    student_lastname(lastname)\n",
    "    student_age(age)\n",
    "    student_language(language)\n",
    "\n",
    "def student_firstname(first):\n",
    "    print(\"Name : \" + first)\n",
    "def student_lastname(last):\n",
    "    print(\"Lastname : \" + last)\n",
    "def student_age(age):\n",
    "    print(\"Age : \" + str(age))\n",
    "def student_language(lang):\n",
    "    print(\"Language : \" + lang)\n",
    "\n",
    "first = \"Shreya\"\n",
    "last = \"Adla\"\n",
    "age = 24\n",
    "lang = \"python\"\n",
    "student_data(first,last,age,lang)"
   ]
  },
  {
   "cell_type": "code",
   "execution_count": 56,
   "id": "da95b526-d54e-43cf-83f6-63e21c835da7",
   "metadata": {},
   "outputs": [
    {
     "data": {
      "text/plain": [
       "4"
      ]
     },
     "execution_count": 56,
     "metadata": {},
     "output_type": "execute_result"
    }
   ],
   "source": [
    "def square(n):\n",
    "    square = n * n\n",
    "    return square\n",
    "\n",
    "number = 2\n",
    "square(number)"
   ]
  },
  {
   "cell_type": "code",
   "execution_count": 57,
   "id": "7a8932f8-de7e-4e2d-a3dc-376e6c7afdd4",
   "metadata": {},
   "outputs": [
    {
     "name": "stdout",
     "output_type": "stream",
     "text": [
      "81\n"
     ]
    }
   ],
   "source": [
    "print(square(9))"
   ]
  },
  {
   "cell_type": "code",
   "execution_count": 59,
   "id": "63ffe4eb-f03b-4e70-abf4-77edab70d74f",
   "metadata": {},
   "outputs": [
    {
     "name": "stdout",
     "output_type": "stream",
     "text": [
      "Help on built-in function pow in module math:\n",
      "\n",
      "pow(x, y, /)\n",
      "    Return x**y (x to the power of y).\n",
      "\n"
     ]
    }
   ],
   "source": [
    "help(math.pow)"
   ]
  },
  {
   "cell_type": "code",
   "execution_count": null,
   "id": "feab365c-6037-4566-afdb-cc6d3294fde5",
   "metadata": {},
   "outputs": [],
   "source": []
  }
 ],
 "metadata": {
  "kernelspec": {
   "display_name": "Python 3 (ipykernel)",
   "language": "python",
   "name": "python3"
  },
  "language_info": {
   "codemirror_mode": {
    "name": "ipython",
    "version": 3
   },
   "file_extension": ".py",
   "mimetype": "text/x-python",
   "name": "python",
   "nbconvert_exporter": "python",
   "pygments_lexer": "ipython3",
   "version": "3.12.4"
  }
 },
 "nbformat": 4,
 "nbformat_minor": 5
}
